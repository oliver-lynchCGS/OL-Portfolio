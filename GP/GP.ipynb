{
    "metadata": {
        "kernelspec": {
            "name": "python3",
            "display_name": "Python 3 (ipykernel)",
            "language": "python"
        }
    },
    "nbformat": 4,
    "nbformat_minor": 2,
    "cells": [
        {
            "attachments": {},
            "cell_type": "markdown",
            "metadata": {},
            "source": [
                "# Python and Data Science\n",
                "## Machine Learning\n",
                "### Part 1: Linear Regression using Scikit-Learn"
            ]
        },
        {
            "attachments": {},
            "cell_type": "markdown",
            "metadata": {},
            "source": [
                "Libraries Used:\n",
                "\n",
                "- [Numpy](https://www.youtube.com/watch?v=lLRBYKwP8GQ\u0026t=1073s) - Used for making arrays\n",
                "- [Pandas](https://www.youtube.com/watch?v=zN2Hua6oII0\u0026t=8s) - Used for handling data sets\n",
                "- [matplotlib](https://www.youtube.com/watch?v=nzKy9GY12yo) - Used for making charts and graphs\n",
                "- [scikit-learn intro](https://www.youtube.com/watch?v=rvVkVsG49uU) - Used to handle complex mathematics\n",
                "- [scikit-learn tut](https://www.youtube.com/watch?v=M9Itm95JzL0) - In depth discussion\n",
                "- [pickle](https://www.youtube.com/watch?v=6Q56r_fVqgw) - Used to preserve trained models\n",
                ""
            ]
        },
        {
            "cell_type": "code",
            "execution_count": 1,
            "metadata": {},
            "outputs": [],
            "source": [
                "# Library Imports\n",
                "import pandas as pd\n",
                "import numpy as np\n",
                "import sklearn\n",
                "import matplotlib.pyplot as pyplot\n",
                "import pickle\n",
                "from sklearn import linear_model\n",
                "from sklearn.utils import shuffle\n",
                "from matplotlib import style"
            ]
        },
        {
            "cell_type": "code",
            "execution_count": 2,
            "metadata": {},
            "outputs": [
                {
                    "name": "stdout",
                    "output_type": "stream",
                    "text": "  school sex  age address famsize Pstatus  Medu  Fedu     Mjob      Fjob  ...  \\\n0     GP   F   18       U     GT3       A     4     4  at_home   teacher  ...   \n1     GP   F   17       U     GT3       T     1     1  at_home     other  ...   \n2     GP   F   15       U     LE3       T     1     1  at_home     other  ...   \n3     GP   F   15       U     GT3       T     4     2   health  services  ...   \n4     GP   F   16       U     GT3       T     3     3    other     other  ...   \n\n  famrel freetime  goout  Dalc  Walc health absences  G1  G2  G3  \n0      4        3      4     1     1      3        6   5   6   6  \n1      5        3      3     1     1      3        4   5   5   6  \n2      4        3      2     2     3      3       10   7   8  10  \n3      3        2      2     1     1      5        2  15  14  15  \n4      4        3      2     1     2      5        4   6  10  10  \n\n[5 rows x 33 columns]\n"
                }
            ],
            "source": [
                "data = pd.read_csv(\"student-mat.csv\", sep=\";\")\n",
                "print(data.head())"
            ]
        },
        {
            "cell_type": "code",
            "execution_count": 3,
            "metadata": {},
            "outputs": [
                {
                    "name": "stdout",
                    "output_type": "stream",
                    "text": "     G1  G2  G3  studytime  failures  absences\n0     5   6   6          2         0         6\n1     5   5   6          2         0         4\n2     7   8  10          2         3        10\n3    15  14  15          3         0         2\n4     6  10  10          2         0         4\n..   ..  ..  ..        ...       ...       ...\n390   9   9   9          2         2        11\n391  14  16  16          1         0         3\n392  10   8   7          1         3         3\n393  11  12  10          1         0         0\n394   8   9   9          1         0         5\n\n[395 rows x 6 columns]\n"
                }
            ],
            "source": [
                "data = data[[\"G1\", \"G2\", \"G3\", \"studytime\", \"failures\", \"absences\"]]\n",
                "print(data)"
            ]
        },
        {
            "attachments": {},
            "cell_type": "markdown",
            "metadata": {},
            "source": [
                "## Attributes and Labels\n",
                "\n",
                "In machine learning:\n",
                "\n",
                "1. **Attributes** (Features): Characteristics or properties of data used as input for algorithms. Also known as variables or features. Represented by a feature vector for each data point.\n",
                "\n",
                "2. **Labels** (Target Variable): Values we want the model to predict or learn. The dataset is labeled in supervised learning, where each data point has an associated label serving as ground truth.\n",
                "\n",
                "The goal is to use attributes to learn patterns and relationships that enable the model to predict labels for new, unseen data.\n",
                "\n",
                "List the attributes here:\n",
                "\n",
                "What is the label in this example?\n",
                ""
            ]
        },
        {
            "cell_type": "code",
            "execution_count": 4,
            "metadata": {},
            "outputs": [],
            "source": [
                "predict = \"G3\"\n",
                "\n",
                "x = np.array(data.drop(predict, axis=1))\n",
                "y = np.array(data[predict]) "
            ]
        },
        {
            "cell_type": "code",
            "execution_count": 5,
            "metadata": {},
            "outputs": [],
            "source": [
                "# Split the data set into train and test sets\n",
                "x_train, x_test, y_train, y_test = sklearn.model_selection.train_test_split(x, y, test_size=0.1)"
            ]
        },
        {
            "attachments": {},
            "cell_type": "markdown",
            "metadata": {},
            "source": [
                "### Linear Regression\n",
                " Using a set of data points, the LR algorithm attempts to find a 'line of best fit' through the data.\n",
                " The 'line of best fit' is a corrrelation between the data points.\n",
                " LR is best used in a situation when there is a strong correlation of data to begin with.\n",
                " \n",
                " \u003ctable\u003e\n",
                "    \u003ctr\u003e\n",
                "        \u003ctd\u003e\n",
                "            \u003cimg src=\"LR-data1.png\" width=\"50%\" /\u003e\n",
                "        \u003c/td\u003e\n",
                "        \u003ctd\u003e\n",
                "            \u003cimg src=\"LR-data2.png\" width=\"50%\" /\u003e\n",
                "        \u003c/td\u003e\n",
                "    \u003c/tr\u003e\n",
                "    \u003ctr\u003e\n",
                "        \u003ctd\u003e\n",
                "            \u003cp style=\"text-align:center\"\u003eStrongly Correlated\u003c/p\u003e\n",
                "        \u003c/td\u003e\n",
                "        \u003ctd\u003e\n",
                "            \u003cp style=\"text-align:center\"\u003ePoorly Correlated\u003c/p\u003e\n",
                "        \u003c/td\u003e\n",
                "    \u003c/tr\u003e\n",
                " \u003c/table\u003e\n",
                " \n",
                " \u003cb\u003eLinear Equation: y = mx + b, where m is the gradient of the line.\n",
                " For any given x and a known gradient, y can be predicted.\u003c/b\u003e"
            ]
        },
        {
            "cell_type": "code",
            "execution_count": 6,
            "metadata": {},
            "outputs": [],
            "source": [
                "# linear = linear_model.LinearRegression()\n",
                "\n",
                "# #Defines line of best fit\n",
                "# linear.fit(x_train, y_train)\n",
                "# acc = linear.score(x_test, y_test)\n",
                "# print(acc)"
            ]
        },
        {
            "attachments": {},
            "cell_type": "markdown",
            "metadata": {},
            "source": [
                "## Save the Model with pickle\n",
                "\n",
                "- use the run all button several times until we get a high accuracy value\n",
                "\n",
                "- Comment out the cell above"
            ]
        },
        {
            "cell_type": "code",
            "execution_count": 7,
            "metadata": {},
            "outputs": [
                {
                    "ename": "NameError",
                    "evalue": "name 'linear' is not defined",
                    "output_type": "error",
                    "traceback": [
                        "\u001b[0;31m---------------------------------------------------------------------------\u001b[0m",
                        "\u001b[0;31mNameError\u001b[0m                                 Traceback (most recent call last)",
                        "Cell \u001b[0;32mIn[1], line 2\u001b[0m\n\u001b[1;32m      1\u001b[0m \u001b[38;5;28;01mwith\u001b[39;00m \u001b[38;5;28mopen\u001b[39m(\u001b[38;5;124m\"\u001b[39m\u001b[38;5;124mstudentmodel.pickle\u001b[39m\u001b[38;5;124m\"\u001b[39m, \u001b[38;5;124m\"\u001b[39m\u001b[38;5;124mwb\u001b[39m\u001b[38;5;124m\"\u001b[39m) \u001b[38;5;28;01mas\u001b[39;00m f:\n\u001b[0;32m----\u003e 2\u001b[0m     pickle\u001b[38;5;241m.\u001b[39mdump(\u001b[43mlinear\u001b[49m, f)\n",
                        "\u001b[0;31mNameError\u001b[0m: name 'linear' is not defined"
                    ]
                }
            ],
            "source": [
                "with open(\"studentmodel.pickle\", \"wb\") as f:\n",
                "    pickle.dump(linear, f)"
            ]
        },
        {
            "cell_type": "code",
            "execution_count": 695,
            "metadata": {},
            "outputs": [],
            "source": [
                "# Load the pickle file \n",
                "pickle_in = open(\"studentmodel.pickle\", \"rb\")\n",
                "linear = pickle.load(pickle_in)"
            ]
        },
        {
            "cell_type": "code",
            "execution_count": 696,
            "metadata": {},
            "outputs": [
                {
                    "name": "stdout",
                    "output_type": "stream",
                    "text": "Coefficient: \n [ 0.15831596  0.9868983  -0.23201003 -0.24952967  0.04522822]\nIntercept: \n -1.6015611455480432\n"
                }
            ],
            "source": [
                "print('Coefficient: \\n', linear.coef_)\n",
                "print('Intercept: \\n', linear.intercept_)"
            ]
        },
        {
            "cell_type": "code",
            "execution_count": 697,
            "metadata": {},
            "outputs": [
                {
                    "name": "stdout",
                    "output_type": "stream",
                    "text": "12.904089499515322 [16 12  1  0  8] 13\n6.380603860801199 [8 7 2 0 6] 9\n9.793649737699964 [12 10  2  0  2] 11\n13.882796534912375 [12 14  1  0  0] 15\n9.799484278942415 [10 10  1  0  4] 10\n12.105917882127644 [14 12  2  1  8] 12\n-0.6407375661313541 [9 0 2 0 0] 0\n13.483899447900182 [14 13  1  0  6] 13\n12.052841433452652 [14 11  1  0 18] 13\n9.567474248174724 [10 10  2  0  4] 10\n12.663888204861921 [12 13  2  0  0] 14\n8.580575948891962 [10  9  2  0  4] 11\n11.902408119488097 [15 12  2  1  0] 12\n7.480555492037174 [ 7  8  2  0 12] 8\n6.408312440503639 [8 7 1 1 7] 8\n-1.7905803750120546 [5 0 1 3 0] 0\n13.91632125496123 [14 14  3  0  4] 14\n3.302227081507545 [6 5 1 3 0] 0\n11.074514230308607 [11 11  2  0 12] 11\n11.874665126976252 [13 12  3  0  6] 12\n4.434481429128708 [ 6  5  1  1 14] 5\n14.886457194219567 [13 15  2  0  2] 16\n16.30890969971897 [14 16  1  0  3] 16\n7.460695145666561 [7 9 4 0 0] 0\n11.396223416146334 [12 11  1  1 16] 12\n8.778251170289058 [11  9  3  0 10] 10\n15.723230797282255 [16 15  2  0 10] 15\n13.758005294855444 [13 14  3  0  4] 14\n10.53177564619061 [11 11  2  0  0] 10\n16.342468832577232 [18 16  3  0  0] 16\n8.17348759799406 [8 9 2 0 2] 8\n15.709204992154088 [14 16  3  0  0] 16\n12.940334762547076 [11 13  1  1 10] 13\n7.9918174610050965 [9 9 2 1 0] 0\n8.922541325266678 [10 10  4  0  0] 10\n7.865046941668199 [10  8  2  0 10] 8\n7.096132868024963 [8 8 2 0 0] 0\n7.328142898792654 [8 8 1 0 0] 11\n12.822204164967706 [13 13  2  0  0] 12\n18.621969532572354 [17 18  1  0  0] 18\n"
                }
            ],
            "source": [
                "predictions = linear.predict(x_test)\n",
                "\n",
                "for x in range(len(predictions)):\n",
                "    print(predictions[x], x_test[x], y_test[x])"
            ]
        },
        {
            "attachments": {},
            "cell_type": "markdown",
            "metadata": {},
            "source": [
                "## Plot the data "
            ]
        },
        {
            "cell_type": "code",
            "execution_count": 698,
            "metadata": {},
            "outputs": [
                {
                    "data": {
                        "image/png": "[encoded data removed]",
                        "text/plain": "\u003cFigure size 640x480 with 1 Axes\u003e"
                    },
                    "metadata": {},
                    "output_type": "display_data"
                }
            ],
            "source": [
                "style.use(\"ggplot\")\n",
                "\n",
                "# Set up a scatter plot\n",
                "p = \"G2\"\n",
                "pyplot.scatter(data[p], data[\"G3\"])\n",
                "pyplot.xlabel(p)\n",
                "pyplot.ylabel(\"Final Grade\")\n",
                "pyplot.show()"
            ]
        }
    ]
}
